{
 "cells": [
  {
   "cell_type": "markdown",
   "metadata": {},
   "source": [
    "# Bài thực hành số 5 lớp (DS108.P21.2)"
   ]
  },
  {
   "cell_type": "markdown",
   "metadata": {},
   "source": [
    "## Bài 1 "
   ]
  },
  {
   "cell_type": "code",
   "execution_count": 1,
   "metadata": {},
   "outputs": [
    {
     "name": "stderr",
     "output_type": "stream",
     "text": [
      "<>:15: SyntaxWarning: invalid escape sequence '\\s'\n",
      "<>:20: SyntaxWarning: invalid escape sequence '\\s'\n",
      "<>:15: SyntaxWarning: invalid escape sequence '\\s'\n",
      "<>:20: SyntaxWarning: invalid escape sequence '\\s'\n",
      "C:\\Users\\APTS\\AppData\\Local\\Temp\\ipykernel_19048\\3663590884.py:15: SyntaxWarning: invalid escape sequence '\\s'\n",
      "  X_train = pd.read_csv(data_path + 'train/X_train.txt', sep='\\s+', header=None)\n",
      "C:\\Users\\APTS\\AppData\\Local\\Temp\\ipykernel_19048\\3663590884.py:20: SyntaxWarning: invalid escape sequence '\\s'\n",
      "  X_test = pd.read_csv(data_path + 'test/X_test.txt', sep='\\s+', header=None)\n"
     ]
    },
    {
     "name": "stdout",
     "output_type": "stream",
     "text": [
      "X_train shape: (7352, 561)\n",
      "y_train shape: (7352, 1)\n",
      "X_test shape: (2947, 561)\n",
      "y_test shape: (2947, 1)\n"
     ]
    }
   ],
   "source": [
    "# Bài 1: Đọc dữ liệu\n",
    "# Đọc và load các file dữ liệu từ tập UCI HAR Dataset\n",
    "import pandas as pd\n",
    "import numpy as np\n",
    "import matplotlib.pyplot as plt\n",
    "import seaborn as sns\n",
    "\n",
    "# Đường dẫn đến dataset\n",
    "data_path = 'getdata_projectfiles_UCI HAR Dataset/UCI HAR Dataset/'\n",
    "\n",
    "# Đọc metadata\n",
    "features = pd.read_csv(data_path + 'features.txt', sep=' ', header=None, names=['id', 'feature'])\n",
    "activity_labels = pd.read_csv(data_path + 'activity_labels.txt', sep=' ', header=None, names=['id', 'activity'])\n",
    "\n",
    "# Đọc dữ liệu train\n",
    "X_train = pd.read_csv(data_path + 'train/X_train.txt', sep='\\s+', header=None)\n",
    "y_train = pd.read_csv(data_path + 'train/y_train.txt', header=None, names=['activity'])\n",
    "subject_train = pd.read_csv(data_path + 'train/subject_train.txt', header=None, names=['subject'])\n",
    "\n",
    "# Đọc dữ liệu test\n",
    "X_test = pd.read_csv(data_path + 'test/X_test.txt', sep='\\s+', header=None)\n",
    "y_test = pd.read_csv(data_path + 'test/y_test.txt', header=None, names=['activity'])\n",
    "subject_test = pd.read_csv(data_path + 'test/subject_test.txt', header=None, names=['subject'])\n",
    "\n",
    "# In thông tin kích thước dữ liệu\n",
    "print(\"X_train shape:\", X_train.shape)\n",
    "print(\"y_train shape:\", y_train.shape)\n",
    "print(\"X_test shape:\", X_test.shape)\n",
    "print(\"y_test shape:\", y_test.shape)"
   ]
  },
  {
   "cell_type": "markdown",
   "metadata": {},
   "source": [
    "## Bài 2\n"
   ]
  },
  {
   "cell_type": "code",
   "execution_count": 2,
   "metadata": {},
   "outputs": [
    {
     "name": "stdout",
     "output_type": "stream",
     "text": [
      "\n",
      "Thông tin về dữ liệu:\n",
      "Tổng số mẫu: 10299\n",
      "Số lượng đặc trưng: 561\n",
      "Phân bố các hoạt động:\n",
      " activity_name\n",
      "LAYING                1944\n",
      "STANDING              1906\n",
      "SITTING               1777\n",
      "WALKING               1722\n",
      "WALKING_UPSTAIRS      1544\n",
      "WALKING_DOWNSTAIRS    1406\n",
      "Name: count, dtype: int64\n"
     ]
    }
   ],
   "source": [
    "# Bài 2: Xử lý dữ liệu\n",
    "\n",
    "# Đặt tên cột cho dữ liệu X theo features.txt\n",
    "X_train.columns = features['feature']\n",
    "X_test.columns = features['feature']\n",
    "\n",
    "# Ghép dữ liệu train và test\n",
    "X = pd.concat([X_train, X_test])\n",
    "y = pd.concat([y_train, y_test])\n",
    "subjects = pd.concat([subject_train, subject_test])\n",
    "\n",
    "# Thêm tên hoạt động vào y\n",
    "y['activity_name'] = y['activity'].map(activity_labels.set_index('id')['activity'])\n",
    "\n",
    "# Hiển thị thông tin cơ bản về dữ liệu\n",
    "print(\"\\nThông tin về dữ liệu:\")\n",
    "print(\"Tổng số mẫu:\", X.shape[0])\n",
    "print(\"Số lượng đặc trưng:\", X.shape[1])\n",
    "print(\"Phân bố các hoạt động:\\n\", y['activity_name'].value_counts())"
   ]
  },
  {
   "cell_type": "markdown",
   "metadata": {},
   "source": [
    "## Bài 3"
   ]
  },
  {
   "cell_type": "code",
   "execution_count": 3,
   "metadata": {},
   "outputs": [],
   "source": [
    "# Bài 3: Phân tích dữ liệu thô\n",
    "# Trực quan hóa phân bố các hoạt động\n",
    "plt.figure(figsize=(12, 6))\n",
    "sns.countplot(y=y['activity_name'])\n",
    "plt.title('Phân bố các loại hoạt động')\n",
    "plt.xlabel('Số lượng mẫu')\n",
    "plt.ylabel('Hoạt động')\n",
    "plt.tight_layout()\n",
    "plt.savefig('activity_distribution.png')\n",
    "plt.close()\n",
    "\n",
    "# Phân tích phân bố đối tượng tham gia\n",
    "plt.figure(figsize=(10, 6))\n",
    "sns.countplot(x='subject', data=subjects)\n",
    "plt.title('Số lượng mẫu theo đối tượng tham gia')\n",
    "plt.xlabel('ID đối tượng')\n",
    "plt.ylabel('Số lượng mẫu')\n",
    "plt.tight_layout()\n",
    "plt.savefig('subject_distribution.png')\n",
    "plt.close()\n",
    "\n",
    "# Chọn một số đặc trưng để trực quan hóa\n",
    "selected_features_vis = ['tBodyAcc-mean()-X', 'tBodyAcc-mean()-Y', 'tBodyAcc-mean()-Z', \n",
    "                         'tBodyGyro-mean()-X', 'tBodyGyro-mean()-Y', 'tBodyGyro-mean()-Z']\n",
    "\n",
    "# Tạo dữ liệu để vẽ boxplot theo từng hoạt động\n",
    "data_for_vis = X[selected_features_vis].copy()\n",
    "data_for_vis['activity'] = y['activity_name'].values\n",
    "\n",
    "# Vẽ boxplot cho các đặc trưng gia tốc\n",
    "plt.figure(figsize=(15, 10))\n",
    "for i, feature in enumerate(['tBodyAcc-mean()-X', 'tBodyAcc-mean()-Y', 'tBodyAcc-mean()-Z']):\n",
    "    plt.subplot(2, 3, i+1)\n",
    "    sns.boxplot(x='activity', y=feature, data=data_for_vis)\n",
    "    plt.xticks(rotation=90)\n",
    "    plt.title(f'Boxplot của {feature}')\n",
    "\n",
    "# Vẽ boxplot cho các đặc trưng góc quay\n",
    "for i, feature in enumerate(['tBodyGyro-mean()-X', 'tBodyGyro-mean()-Y', 'tBodyGyro-mean()-Z']):\n",
    "    plt.subplot(2, 3, i+4)\n",
    "    sns.boxplot(x='activity', y=feature, data=data_for_vis)\n",
    "    plt.xticks(rotation=90)\n",
    "    plt.title(f'Boxplot của {feature}')\n",
    "\n",
    "plt.tight_layout()\n",
    "plt.savefig('features_boxplots.png')\n",
    "plt.close()"
   ]
  },
  {
   "cell_type": "markdown",
   "metadata": {},
   "source": [
    "## Bài 4"
   ]
  },
  {
   "cell_type": "code",
   "execution_count": 4,
   "metadata": {},
   "outputs": [
    {
     "name": "stdout",
     "output_type": "stream",
     "text": [
      "Số đặc trưng sau khi chọn (chỉ mean và std): 66\n",
      "\n",
      "Thống kê sau khi chuẩn hóa:\n",
      "                             mean  std    min    max\n",
      "tBodyAcc-mean()-X            -0.0  1.0 -18.84  10.73\n",
      "tBodyAcc-mean()-Y             0.0  1.0 -26.46  27.41\n",
      "tBodyAcc-mean()-Z            -0.0  1.0 -16.80  20.91\n",
      "tBodyAcc-std()-X             -0.0  1.0  -0.89   3.67\n",
      "tBodyAcc-std()-Y             -0.0  1.0  -0.98   3.02\n",
      "...                           ...  ...    ...    ...\n",
      "fBodyBodyAccJerkMag-std()     0.0  1.0  -0.89   4.04\n",
      "fBodyBodyGyroMag-mean()       0.0  1.0  -0.93   5.24\n",
      "fBodyBodyGyroMag-std()       -0.0  1.0  -0.97   5.48\n",
      "fBodyBodyGyroJerkMag-mean()   0.0  1.0  -0.82   6.65\n",
      "fBodyBodyGyroJerkMag-std()   -0.0  1.0  -0.80   6.92\n",
      "\n",
      "[66 rows x 4 columns]\n"
     ]
    }
   ],
   "source": [
    "# Bài 4: Chuẩn hóa dữ liệu\n",
    "from sklearn.preprocessing import StandardScaler\n",
    "\n",
    "# Chỉ chọn các đặc trưng có chứa mean() và std()\n",
    "mean_std_features = [col for col in X.columns if 'mean()' in col or 'std()' in col]\n",
    "X_selected = X[mean_std_features]\n",
    "\n",
    "print(f\"Số đặc trưng sau khi chọn (chỉ mean và std): {X_selected.shape[1]}\")\n",
    "\n",
    "# Chuẩn hóa dữ liệu\n",
    "scaler = StandardScaler()\n",
    "X_scaled = scaler.fit_transform(X_selected)\n",
    "\n",
    "# Chuyển lại về DataFrame để dễ thao tác\n",
    "X_scaled_df = pd.DataFrame(X_scaled, columns=mean_std_features)\n",
    "\n",
    "# Hiển thị thống kê sau khi chuẩn hóa\n",
    "print(\"\\nThống kê sau khi chuẩn hóa:\")\n",
    "print(X_scaled_df.describe().round(2).T[['mean', 'std', 'min', 'max']])\n",
    "\n",
    "# Trực quan hóa một số đặc trưng sau chuẩn hóa\n",
    "plt.figure(figsize=(12, 6))\n",
    "for i, feature in enumerate(mean_std_features[:5]):  # Chỉ hiển thị 5 đặc trưng đầu tiên\n",
    "    plt.subplot(1, 5, i+1)\n",
    "    sns.histplot(X_scaled_df[feature], kde=True)\n",
    "    plt.title(f'{feature}')\n",
    "    plt.xlabel('Giá trị')\n",
    "    plt.ylabel('Tần suất')\n",
    "\n",
    "plt.tight_layout()\n",
    "plt.savefig('normalized_features.png')\n",
    "plt.close()"
   ]
  },
  {
   "cell_type": "markdown",
   "metadata": {},
   "source": [
    "## Bài 5"
   ]
  },
  {
   "cell_type": "code",
   "execution_count": 5,
   "metadata": {},
   "outputs": [
    {
     "name": "stdout",
     "output_type": "stream",
     "text": [
      "Số chiều sau khi áp dụng PCA: 17\n",
      "Tổng phương sai giải thích: 95.29%\n"
     ]
    }
   ],
   "source": [
    "# Bài 5: Giảm chiều dữ liệu với PCA\n",
    "from sklearn.decomposition import PCA\n",
    "\n",
    "# Áp dụng PCA để giữ lại 95% phương sai\n",
    "pca = PCA(n_components=0.95)\n",
    "X_pca = pca.fit_transform(X_scaled)\n",
    "\n",
    "print(f\"Số chiều sau khi áp dụng PCA: {X_pca.shape[1]}\")\n",
    "print(f\"Tổng phương sai giải thích: {sum(pca.explained_variance_ratio_)*100:.2f}%\")\n",
    "\n",
    "# Trực quan hóa phương sai giải thích\n",
    "plt.figure(figsize=(10, 6))\n",
    "plt.bar(range(1, len(pca.explained_variance_ratio_)+1), pca.explained_variance_ratio_)\n",
    "plt.plot(range(1, len(pca.explained_variance_ratio_)+1), np.cumsum(pca.explained_variance_ratio_), 'r-')\n",
    "plt.axhline(y=0.95, color='g', linestyle='--')\n",
    "plt.title('Phương sai giải thích của các thành phần chính')\n",
    "plt.xlabel('Thành phần chính')\n",
    "plt.ylabel('Tỷ lệ phương sai giải thích')\n",
    "plt.savefig('pca_variance.png')\n",
    "plt.close()\n",
    "\n",
    "# Trực quan hóa dữ liệu sau khi giảm chiều xuống 2D\n",
    "pca_2d = PCA(n_components=2)\n",
    "X_pca_2d = pca_2d.fit_transform(X_scaled)\n",
    "\n",
    "plt.figure(figsize=(12, 10))\n",
    "scatter = plt.scatter(X_pca_2d[:, 0], X_pca_2d[:, 1], c=y['activity'], cmap='viridis', alpha=0.6)\n",
    "plt.colorbar(scatter, label='Activity ID')\n",
    "plt.title('Dữ liệu sau khi giảm chiều xuống 2D với PCA')\n",
    "plt.xlabel('PC1')\n",
    "plt.ylabel('PC2')\n",
    "plt.savefig('pca_2d_visualization.png')\n",
    "plt.close()"
   ]
  },
  {
   "cell_type": "markdown",
   "metadata": {},
   "source": [
    "## Bài 6"
   ]
  },
  {
   "cell_type": "code",
   "execution_count": 6,
   "metadata": {},
   "outputs": [
    {
     "name": "stdout",
     "output_type": "stream",
     "text": [
      "\n",
      "Độ chính xác của mô hình: 0.8951\n",
      "\n",
      "Báo cáo phân loại chi tiết:\n",
      "                    precision    recall  f1-score   support\n",
      "\n",
      "           WALKING       0.90      0.86      0.88       517\n",
      "  WALKING_UPSTAIRS       0.83      0.92      0.87       463\n",
      "WALKING_DOWNSTAIRS       0.87      0.82      0.85       422\n",
      "           SITTING       0.87      0.87      0.87       533\n",
      "          STANDING       0.89      0.88      0.89       572\n",
      "            LAYING       1.00      0.99      0.99       583\n",
      "\n",
      "          accuracy                           0.90      3090\n",
      "         macro avg       0.89      0.89      0.89      3090\n",
      "      weighted avg       0.90      0.90      0.90      3090\n",
      "\n"
     ]
    }
   ],
   "source": [
    "# Bài 6: Huấn luyện mô hình và đánh giá\n",
    "from sklearn.model_selection import train_test_split\n",
    "from sklearn.ensemble import RandomForestClassifier\n",
    "from sklearn.metrics import accuracy_score, classification_report, confusion_matrix\n",
    "\n",
    "# Chia dữ liệu thành tập huấn luyện và kiểm tra\n",
    "X_train_pca, X_test_pca, y_train_labels, y_test_labels = train_test_split(\n",
    "    X_pca, y['activity'], test_size=0.3, random_state=42, stratify=y['activity']\n",
    ")\n",
    "\n",
    "# Huấn luyện mô hình Random Forest\n",
    "rf_model = RandomForestClassifier(n_estimators=100, random_state=42)\n",
    "rf_model.fit(X_train_pca, y_train_labels)\n",
    "\n",
    "# Dự đoán trên tập kiểm tra\n",
    "y_pred = rf_model.predict(X_test_pca)\n",
    "\n",
    "# Đánh giá mô hình\n",
    "accuracy = accuracy_score(y_test_labels, y_pred)\n",
    "print(f\"\\nĐộ chính xác của mô hình: {accuracy:.4f}\")\n",
    "\n",
    "# Ma trận nhầm lẫn\n",
    "cm = confusion_matrix(y_test_labels, y_pred)\n",
    "plt.figure(figsize=(10, 8))\n",
    "sns.heatmap(cm, annot=True, fmt='d', cmap='Blues', \n",
    "            xticklabels=activity_labels['activity'],\n",
    "            yticklabels=activity_labels['activity'])\n",
    "plt.xlabel('Dự đoán')\n",
    "plt.ylabel('Thực tế')\n",
    "plt.title('Ma trận nhầm lẫn')\n",
    "plt.tight_layout()\n",
    "plt.savefig('confusion_matrix.png')\n",
    "plt.close()\n",
    "\n",
    "# Báo cáo phân loại chi tiết\n",
    "print(\"\\nBáo cáo phân loại chi tiết:\")\n",
    "print(classification_report(y_test_labels, y_pred, target_names=activity_labels['activity']))"
   ]
  },
  {
   "cell_type": "markdown",
   "metadata": {},
   "source": [
    "## Bài 7"
   ]
  },
  {
   "cell_type": "code",
   "execution_count": 7,
   "metadata": {},
   "outputs": [
    {
     "name": "stdout",
     "output_type": "stream",
     "text": [
      "\n",
      "Huấn luyện mô hình Random Forest...\n",
      "Độ chính xác của Random Forest: 0.8951\n",
      "\n",
      "Huấn luyện mô hình SVM...\n",
      "Độ chính xác của SVM: 0.8916\n",
      "\n",
      "Huấn luyện mô hình KNN...\n",
      "Độ chính xác của KNN: 0.8848\n",
      "\n",
      "Huấn luyện mô hình Neural Network...\n"
     ]
    },
    {
     "name": "stderr",
     "output_type": "stream",
     "text": [
      "d:\\anaconda3\\Lib\\site-packages\\sklearn\\neural_network\\_multilayer_perceptron.py:690: ConvergenceWarning: Stochastic Optimizer: Maximum iterations (300) reached and the optimization hasn't converged yet.\n",
      "  warnings.warn(\n"
     ]
    },
    {
     "name": "stdout",
     "output_type": "stream",
     "text": [
      "Độ chính xác của Neural Network: 0.9126\n"
     ]
    }
   ],
   "source": [
    "# Bài 7: So sánh các mô hình\n",
    "from sklearn.svm import SVC\n",
    "from sklearn.neighbors import KNeighborsClassifier\n",
    "from sklearn.neural_network import MLPClassifier\n",
    "from sklearn.metrics import accuracy_score\n",
    "\n",
    "# Định nghĩa các mô hình để so sánh\n",
    "models = {\n",
    "    'Random Forest': RandomForestClassifier(n_estimators=100, random_state=42),\n",
    "    'SVM': SVC(kernel='rbf', C=1, gamma='scale', random_state=42),\n",
    "    'KNN': KNeighborsClassifier(n_neighbors=5),\n",
    "    'Neural Network': MLPClassifier(hidden_layer_sizes=(100,), max_iter=300, random_state=42)\n",
    "}\n",
    "\n",
    "# Dictionary để lưu kết quả\n",
    "results = {}\n",
    "\n",
    "# Huấn luyện và đánh giá từng mô hình\n",
    "for name, model in models.items():\n",
    "    print(f\"\\nHuấn luyện mô hình {name}...\")\n",
    "    model.fit(X_train_pca, y_train_labels)\n",
    "    \n",
    "    # Dự đoán và tính độ chính xác\n",
    "    y_pred = model.predict(X_test_pca)\n",
    "    accuracy = accuracy_score(y_test_labels, y_pred)\n",
    "    results[name] = accuracy\n",
    "    \n",
    "    print(f\"Độ chính xác của {name}: {accuracy:.4f}\")\n",
    "\n",
    "# Trực quan hóa kết quả so sánh các mô hình\n",
    "plt.figure(figsize=(10, 6))\n",
    "sns.barplot(x=list(results.keys()), y=list(results.values()))\n",
    "plt.title('So sánh độ chính xác của các mô hình')\n",
    "plt.xlabel('Mô hình')\n",
    "plt.ylabel('Độ chính xác')\n",
    "plt.ylim(0.8, 1.0)  # Điều chỉnh để thấy rõ sự khác biệt\n",
    "plt.xticks(rotation=45)\n",
    "plt.tight_layout()\n",
    "plt.savefig('model_comparison.png')\n",
    "plt.close()"
   ]
  },
  {
   "cell_type": "markdown",
   "metadata": {},
   "source": [
    "## Bài 8"
   ]
  },
  {
   "cell_type": "code",
   "execution_count": 8,
   "metadata": {},
   "outputs": [
    {
     "name": "stdout",
     "output_type": "stream",
     "text": [
      "\n",
      "Phân tích hoàn tất! Các biểu đồ đã được lưu.\n"
     ]
    }
   ],
   "source": [
    "# Bài 8: Phân tích đặc trưng quan trọng\n",
    "# Lấy mô hình Random Forest để phân tích đặc trưng quan trọng\n",
    "rf_model = models['Random Forest']\n",
    "feature_importances = rf_model.feature_importances_\n",
    "\n",
    "# Tạo DataFrame để dễ dàng thao tác\n",
    "if X_pca.shape[1] <= 30:  # Nếu số đặc trưng sau PCA nhỏ, sử dụng trực tiếp\n",
    "    importances_df = pd.DataFrame({\n",
    "        'feature': [f'PC{i+1}' for i in range(X_pca.shape[1])],\n",
    "        'importance': feature_importances\n",
    "    })\n",
    "    \n",
    "    # Sắp xếp theo tầm quan trọng giảm dần\n",
    "    importances_df = importances_df.sort_values('importance', ascending=False)\n",
    "    \n",
    "    # Trực quan hóa\n",
    "    plt.figure(figsize=(12, 8))\n",
    "    sns.barplot(x='importance', y='feature', data=importances_df.head(15))\n",
    "    plt.title('Top 15 thành phần PCA quan trọng nhất')\n",
    "    plt.tight_layout()\n",
    "    plt.savefig('feature_importance_pca.png')\n",
    "    plt.close()\n",
    "else:\n",
    "    # Nếu số lượng thành phần PCA lớn, chỉ hiển thị top 20\n",
    "    importances = [(i, f'PC{i+1}', imp) for i, imp in enumerate(feature_importances)]\n",
    "    importances.sort(key=lambda x: x[2], reverse=True)\n",
    "    \n",
    "    top_components = importances[:20]\n",
    "    \n",
    "    # Vẽ biểu đồ \n",
    "    plt.figure(figsize=(12, 8))\n",
    "    plt.bar([comp[1] for comp in top_components], [comp[2] for comp in top_components])\n",
    "    plt.title('Top 20 thành phần PCA quan trọng nhất')\n",
    "    plt.xlabel('Thành phần PCA')\n",
    "    plt.ylabel('Tầm quan trọng')\n",
    "    plt.xticks(rotation=90)\n",
    "    plt.tight_layout()\n",
    "    plt.savefig('feature_importance_pca_top20.png')\n",
    "    plt.close()\n",
    "    \n",
    "    # Phân tích thành phần chính đóng góp gì vào đặc trưng gốc\n",
    "    top_pca_indices = [comp[0] for comp in top_components[:5]]  # Lấy 5 thành phần quan trọng nhất\n",
    "    \n",
    "    # Phân tích 5 thành phần quan trọng nhất\n",
    "    plt.figure(figsize=(15, 12))\n",
    "    \n",
    "    for i, idx in enumerate(top_pca_indices):\n",
    "        # Lấy trọng số đóng góp của các đặc trưng gốc vào thành phần này\n",
    "        component = pd.Series(abs(pca.components_[idx]), index=mean_std_features)\n",
    "        component = component.sort_values(ascending=False)\n",
    "        \n",
    "        # Vẽ biểu đồ top 10 đặc trưng gốc đóng góp nhiều nhất\n",
    "        plt.subplot(3, 2, i+1)\n",
    "        sns.barplot(x=component.values[:10], y=component.index[:10])\n",
    "        plt.title(f'Top 10 đặc trưng đóng góp cho PC{idx+1}')\n",
    "        \n",
    "    plt.tight_layout()\n",
    "    plt.savefig('pca_components_analysis.png')\n",
    "    plt.close()\n",
    "\n",
    "print(\"\\nPhân tích hoàn tất! Các biểu đồ đã được lưu.\")"
   ]
  },
  {
   "cell_type": "markdown",
   "metadata": {},
   "source": [
    "## Bài 9"
   ]
  },
  {
   "cell_type": "code",
   "execution_count": 9,
   "metadata": {},
   "outputs": [
    {
     "name": "stdout",
     "output_type": "stream",
     "text": [
      "\n",
      "===== TÓM TẮT KẾT QUẢ =====\n",
      "Số lượng mẫu ban đầu: 10299\n",
      "Số lượng đặc trưng ban đầu: 561\n",
      "Số lượng đặc trưng sau khi chọn (mean và std): 66\n",
      "Số lượng thành phần sau PCA (95% phương sai): 17\n",
      "\n",
      "Kết quả độ chính xác của các mô hình:\n",
      "- Random Forest: 0.8951\n",
      "- SVM: 0.8916\n",
      "- KNN: 0.8848\n",
      "- Neural Network: 0.9126\n",
      "\n",
      "Mô hình tốt nhất: Neural Network với độ chính xác 0.9126\n",
      "\n",
      "Kết luận:\n",
      "1. Dữ liệu UCI HAR Dataset chứa các đặc trưng về gia tốc và góc quay từ smartphone.\n",
      "2. Đã giảm chiều dữ liệu từ nhiều đặc trưng xuống còn ít hơn nhưng vẫn giữ được 95% thông tin.\n",
      "3. Neural Network cho kết quả tốt nhất trong việc phân loại 6 hoạt động khác nhau.\n",
      "4. Các đặc trưng quan trọng đã được phân tích và trực quan hóa.\n",
      "5. Kết quả cho thấy mô hình có thể nhận dạng hoạt động con người với độ chính xác cao.\n"
     ]
    }
   ],
   "source": [
    "# Bài 9: Tổng kết và báo cáo kết quả\n",
    "# Hiển thị tóm tắt về quá trình và kết quả\n",
    "\n",
    "print(\"\\n===== TÓM TẮT KẾT QUẢ =====\")\n",
    "print(f\"Số lượng mẫu ban đầu: {X.shape[0]}\")\n",
    "print(f\"Số lượng đặc trưng ban đầu: {X.shape[1]}\")\n",
    "print(f\"Số lượng đặc trưng sau khi chọn (mean và std): {X_selected.shape[1]}\")\n",
    "print(f\"Số lượng thành phần sau PCA (95% phương sai): {X_pca.shape[1]}\")\n",
    "print(\"\\nKết quả độ chính xác của các mô hình:\")\n",
    "for name, acc in results.items():\n",
    "    print(f\"- {name}: {acc:.4f}\")\n",
    "\n",
    "# Mô hình tốt nhất\n",
    "best_model = max(results, key=results.get)\n",
    "print(f\"\\nMô hình tốt nhất: {best_model} với độ chính xác {results[best_model]:.4f}\")\n",
    "\n",
    "# Kết luận\n",
    "print(\"\\nKết luận:\")\n",
    "print(\"1. Dữ liệu UCI HAR Dataset chứa các đặc trưng về gia tốc và góc quay từ smartphone.\")\n",
    "print(\"2. Đã giảm chiều dữ liệu từ nhiều đặc trưng xuống còn ít hơn nhưng vẫn giữ được 95% thông tin.\")\n",
    "print(f\"3. {best_model} cho kết quả tốt nhất trong việc phân loại 6 hoạt động khác nhau.\")\n",
    "print(\"4. Các đặc trưng quan trọng đã được phân tích và trực quan hóa.\")\n",
    "print(\"5. Kết quả cho thấy mô hình có thể nhận dạng hoạt động con người với độ chính xác cao.\")"
   ]
  }
 ],
 "metadata": {
  "kernelspec": {
   "display_name": "base",
   "language": "python",
   "name": "python3"
  },
  "language_info": {
   "codemirror_mode": {
    "name": "ipython",
    "version": 3
   },
   "file_extension": ".py",
   "mimetype": "text/x-python",
   "name": "python",
   "nbconvert_exporter": "python",
   "pygments_lexer": "ipython3",
   "version": "3.12.7"
  }
 },
 "nbformat": 4,
 "nbformat_minor": 2
}
