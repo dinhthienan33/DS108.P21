{
 "cells": [
  {
   "cell_type": "markdown",
   "metadata": {},
   "source": [
    "# Bài tập thực hành môn Tiền xử lý và xây dựng bộ dữ liệu "
   ]
  },
  {
   "cell_type": "code",
   "execution_count": 1,
   "metadata": {},
   "outputs": [
    {
     "data": {
      "text/html": [
       "<div>\n",
       "<style scoped>\n",
       "    .dataframe tbody tr th:only-of-type {\n",
       "        vertical-align: middle;\n",
       "    }\n",
       "\n",
       "    .dataframe tbody tr th {\n",
       "        vertical-align: top;\n",
       "    }\n",
       "\n",
       "    .dataframe thead th {\n",
       "        text-align: right;\n",
       "    }\n",
       "</style>\n",
       "<table border=\"1\" class=\"dataframe\">\n",
       "  <thead>\n",
       "    <tr style=\"text-align: right;\">\n",
       "      <th></th>\n",
       "      <th>SNo</th>\n",
       "      <th>ObservationDate</th>\n",
       "      <th>Province/State</th>\n",
       "      <th>Country/Region</th>\n",
       "      <th>Last Update</th>\n",
       "      <th>Confirmed</th>\n",
       "      <th>Deaths</th>\n",
       "      <th>Recovered</th>\n",
       "    </tr>\n",
       "  </thead>\n",
       "  <tbody>\n",
       "    <tr>\n",
       "      <th>0</th>\n",
       "      <td>1</td>\n",
       "      <td>01/22/2020</td>\n",
       "      <td>Anhui</td>\n",
       "      <td>Mainland China</td>\n",
       "      <td>1/22/2020 17:00</td>\n",
       "      <td>1.0</td>\n",
       "      <td>0.0</td>\n",
       "      <td>0.0</td>\n",
       "    </tr>\n",
       "    <tr>\n",
       "      <th>1</th>\n",
       "      <td>2</td>\n",
       "      <td>01/22/2020</td>\n",
       "      <td>Beijing</td>\n",
       "      <td>Mainland China</td>\n",
       "      <td>1/22/2020 17:00</td>\n",
       "      <td>14.0</td>\n",
       "      <td>0.0</td>\n",
       "      <td>0.0</td>\n",
       "    </tr>\n",
       "    <tr>\n",
       "      <th>2</th>\n",
       "      <td>3</td>\n",
       "      <td>01/22/2020</td>\n",
       "      <td>Chongqing</td>\n",
       "      <td>Mainland China</td>\n",
       "      <td>1/22/2020 17:00</td>\n",
       "      <td>6.0</td>\n",
       "      <td>0.0</td>\n",
       "      <td>0.0</td>\n",
       "    </tr>\n",
       "    <tr>\n",
       "      <th>3</th>\n",
       "      <td>4</td>\n",
       "      <td>01/22/2020</td>\n",
       "      <td>Fujian</td>\n",
       "      <td>Mainland China</td>\n",
       "      <td>1/22/2020 17:00</td>\n",
       "      <td>1.0</td>\n",
       "      <td>0.0</td>\n",
       "      <td>0.0</td>\n",
       "    </tr>\n",
       "    <tr>\n",
       "      <th>4</th>\n",
       "      <td>5</td>\n",
       "      <td>01/22/2020</td>\n",
       "      <td>Gansu</td>\n",
       "      <td>Mainland China</td>\n",
       "      <td>1/22/2020 17:00</td>\n",
       "      <td>0.0</td>\n",
       "      <td>0.0</td>\n",
       "      <td>0.0</td>\n",
       "    </tr>\n",
       "  </tbody>\n",
       "</table>\n",
       "</div>"
      ],
      "text/plain": [
       "   SNo ObservationDate Province/State  Country/Region      Last Update  \\\n",
       "0    1      01/22/2020          Anhui  Mainland China  1/22/2020 17:00   \n",
       "1    2      01/22/2020        Beijing  Mainland China  1/22/2020 17:00   \n",
       "2    3      01/22/2020      Chongqing  Mainland China  1/22/2020 17:00   \n",
       "3    4      01/22/2020         Fujian  Mainland China  1/22/2020 17:00   \n",
       "4    5      01/22/2020          Gansu  Mainland China  1/22/2020 17:00   \n",
       "\n",
       "   Confirmed  Deaths  Recovered  \n",
       "0        1.0     0.0        0.0  \n",
       "1       14.0     0.0        0.0  \n",
       "2        6.0     0.0        0.0  \n",
       "3        1.0     0.0        0.0  \n",
       "4        0.0     0.0        0.0  "
      ]
     },
     "execution_count": 1,
     "metadata": {},
     "output_type": "execute_result"
    }
   ],
   "source": [
    "# load dataset\n",
    "import pandas as pd\n",
    "import numpy as np\n",
    "import matplotlib.pyplot as plt\n",
    "coronaData=pd.read_csv('data/covid_19_data.csv')\n",
    "coronaData.head()"
   ]
  },
  {
   "cell_type": "markdown",
   "metadata": {},
   "source": [
    "## Câu a"
   ]
  },
  {
   "cell_type": "code",
   "execution_count": 2,
   "metadata": {},
   "outputs": [
    {
     "name": "stdout",
     "output_type": "stream",
     "text": [
      "Số cột trong bảng dữ liệu 8\n"
     ]
    }
   ],
   "source": [
    "#Liệt kê số cột trong bảng dữ liệu\n",
    "print(\"Số cột trong bảng dữ liệu\",len(coronaData.columns))\n"
   ]
  },
  {
   "cell_type": "code",
   "execution_count": 3,
   "metadata": {},
   "outputs": [
    {
     "name": "stdout",
     "output_type": "stream",
     "text": [
      "Số dòng trong bảng dữ liệu 306429\n"
     ]
    }
   ],
   "source": [
    "#Liệt kê số dòng:\n",
    "print(\"Số dòng trong bảng dữ liệu\",coronaData.shape[0])\n"
   ]
  },
  {
   "cell_type": "code",
   "execution_count": 4,
   "metadata": {},
   "outputs": [
    {
     "name": "stdout",
     "output_type": "stream",
     "text": [
      "10 dòng đầu trong bảng dữ liệu    SNo ObservationDate Province/State  Country/Region      Last Update  \\\n",
      "0    1      01/22/2020          Anhui  Mainland China  1/22/2020 17:00   \n",
      "1    2      01/22/2020        Beijing  Mainland China  1/22/2020 17:00   \n",
      "2    3      01/22/2020      Chongqing  Mainland China  1/22/2020 17:00   \n",
      "3    4      01/22/2020         Fujian  Mainland China  1/22/2020 17:00   \n",
      "4    5      01/22/2020          Gansu  Mainland China  1/22/2020 17:00   \n",
      "5    6      01/22/2020      Guangdong  Mainland China  1/22/2020 17:00   \n",
      "6    7      01/22/2020        Guangxi  Mainland China  1/22/2020 17:00   \n",
      "7    8      01/22/2020        Guizhou  Mainland China  1/22/2020 17:00   \n",
      "8    9      01/22/2020         Hainan  Mainland China  1/22/2020 17:00   \n",
      "9   10      01/22/2020          Hebei  Mainland China  1/22/2020 17:00   \n",
      "\n",
      "   Confirmed  Deaths  Recovered  \n",
      "0        1.0     0.0        0.0  \n",
      "1       14.0     0.0        0.0  \n",
      "2        6.0     0.0        0.0  \n",
      "3        1.0     0.0        0.0  \n",
      "4        0.0     0.0        0.0  \n",
      "5       26.0     0.0        0.0  \n",
      "6        2.0     0.0        0.0  \n",
      "7        1.0     0.0        0.0  \n",
      "8        4.0     0.0        0.0  \n",
      "9        1.0     0.0        0.0  \n",
      "Tên cột của bảng dữ liệu Index(['SNo', 'ObservationDate', 'Province/State', 'Country/Region',\n",
      "       'Last Update', 'Confirmed', 'Deaths', 'Recovered'],\n",
      "      dtype='object')\n"
     ]
    }
   ],
   "source": [
    "#In ra 10 dòng đầu trong bảng dữ liệu\n",
    "print(\"10 dòng đầu trong bảng dữ liệu\",coronaData.head(10))\n",
    "#In ra tên các biến (tên cột) của dữ liệu\n",
    "print(\"Tên cột của bảng dữ liệu\",coronaData.columns)\n"
   ]
  },
  {
   "cell_type": "code",
   "execution_count": 5,
   "metadata": {},
   "outputs": [
    {
     "name": "stdout",
     "output_type": "stream",
     "text": [
      "Các quốc gia có dịch Corona ['Mainland China' 'Hong Kong' 'Macau' 'Taiwan' 'US' 'Japan' 'Thailand'\n",
      " 'South Korea' 'China' 'Kiribati' 'Singapore' 'Philippines' 'Malaysia'\n",
      " 'Vietnam' 'Australia' 'Mexico' 'Brazil' 'Colombia' 'France' 'Nepal'\n",
      " 'Canada' 'Cambodia' 'Sri Lanka' 'Ivory Coast' 'Germany' 'Finland'\n",
      " 'United Arab Emirates' 'India' 'Italy' 'UK' 'Russia' 'Sweden' 'Spain'\n",
      " 'Belgium' 'Others' 'Egypt' 'Iran' 'Israel' 'Lebanon' 'Iraq' 'Oman'\n",
      " 'Afghanistan' 'Bahrain' 'Kuwait' 'Austria' 'Algeria' 'Croatia'\n",
      " 'Switzerland' 'Pakistan' 'Georgia' 'Greece' 'North Macedonia' 'Norway'\n",
      " 'Romania' 'Denmark' 'Estonia' 'Netherlands' 'San Marino' ' Azerbaijan'\n",
      " 'Belarus' 'Iceland' 'Lithuania' 'New Zealand' 'Nigeria' 'North Ireland'\n",
      " 'Ireland' 'Luxembourg' 'Monaco' 'Qatar' 'Ecuador' 'Azerbaijan'\n",
      " 'Czech Republic' 'Armenia' 'Dominican Republic' 'Indonesia' 'Portugal'\n",
      " 'Andorra' 'Latvia' 'Morocco' 'Saudi Arabia' 'Senegal' 'Argentina' 'Chile'\n",
      " 'Jordan' 'Ukraine' 'Saint Barthelemy' 'Hungary' 'Faroe Islands'\n",
      " 'Gibraltar' 'Liechtenstein' 'Poland' 'Tunisia' 'Palestine'\n",
      " 'Bosnia and Herzegovina' 'Slovenia' 'South Africa' 'Bhutan' 'Cameroon'\n",
      " 'Costa Rica' 'Peru' 'Serbia' 'Slovakia' 'Togo' 'Vatican City'\n",
      " 'French Guiana' 'Malta' 'Martinique' 'Republic of Ireland' 'Bulgaria'\n",
      " 'Maldives' 'Bangladesh' 'Moldova' 'Paraguay' 'Albania' 'Cyprus'\n",
      " 'St. Martin' 'Brunei' 'occupied Palestinian territory' \"('St. Martin',)\"\n",
      " 'Burkina Faso' 'Channel Islands' 'Holy See' 'Mongolia' 'Panama' 'Bolivia'\n",
      " 'Honduras' 'Congo (Kinshasa)' 'Jamaica' 'Reunion' 'Turkey' 'Cuba'\n",
      " 'Guyana' 'Kazakhstan' 'Cayman Islands' 'Guadeloupe' 'Ethiopia' 'Sudan'\n",
      " 'Guinea' 'Antigua and Barbuda' 'Aruba' 'Kenya' 'Uruguay' 'Ghana' 'Jersey'\n",
      " 'Namibia' 'Seychelles' 'Trinidad and Tobago' 'Venezuela' 'Curacao'\n",
      " 'Eswatini' 'Gabon' 'Guatemala' 'Guernsey' 'Mauritania' 'Rwanda'\n",
      " 'Saint Lucia' 'Saint Vincent and the Grenadines' 'Suriname' 'Kosovo'\n",
      " 'Central African Republic' 'Congo (Brazzaville)' 'Equatorial Guinea'\n",
      " 'Uzbekistan' 'Guam' 'Puerto Rico' 'Benin' 'Greenland' 'Liberia' 'Mayotte'\n",
      " 'Republic of the Congo' 'Somalia' 'Tanzania' 'The Bahamas' 'Barbados'\n",
      " 'Montenegro' 'The Gambia' 'Kyrgyzstan' 'Mauritius' 'Zambia' 'Djibouti'\n",
      " 'Gambia, The' 'Bahamas, The' 'Chad' 'El Salvador' 'Fiji' 'Nicaragua'\n",
      " 'Madagascar' 'Haiti' 'Angola' 'Cabo Verde' 'Niger' 'Papua New Guinea'\n",
      " 'Zimbabwe' 'Cape Verde' 'East Timor' 'Eritrea' 'Uganda' 'Bahamas'\n",
      " 'Dominica' 'Gambia' 'Grenada' 'Mozambique' 'Samoa' 'Syria' 'Timor-Leste'\n",
      " 'Belize' 'Laos' 'Libya' 'Diamond Princess' 'Guinea-Bissau' 'Mali'\n",
      " 'Saint Kitts and Nevis' 'West Bank and Gaza' 'Burma' 'MS Zaandam'\n",
      " 'Botswana' 'Burundi' 'Sierra Leone' 'Malawi' 'South Sudan'\n",
      " 'Sao Tome and Principe' 'Yemen' 'Comoros' 'Tajikistan' 'Lesotho'\n",
      " 'Solomon Islands' 'Marshall Islands' 'Vanuatu' 'Micronesia']\n",
      "Số lượng ca lây nhiễm được xác nhận nhiều nhất 5863138.0\n",
      "Các dữ liệu về covid-19 tại quốc gia Trung Quốc đại lục (Mainland China)            SNo ObservationDate Province/State  Country/Region  \\\n",
      "0            1      01/22/2020          Anhui  Mainland China   \n",
      "1            2      01/22/2020        Beijing  Mainland China   \n",
      "2            3      01/22/2020      Chongqing  Mainland China   \n",
      "3            4      01/22/2020         Fujian  Mainland China   \n",
      "4            5      01/22/2020          Gansu  Mainland China   \n",
      "...        ...             ...            ...             ...   \n",
      "306340  306341      05/29/2021          Tibet  Mainland China   \n",
      "306368  306369      05/29/2021        Unknown  Mainland China   \n",
      "306412  306413      05/29/2021       Xinjiang  Mainland China   \n",
      "306420  306421      05/29/2021         Yunnan  Mainland China   \n",
      "306426  306427      05/29/2021       Zhejiang  Mainland China   \n",
      "\n",
      "                Last Update  Confirmed  Deaths  Recovered  \n",
      "0           1/22/2020 17:00        1.0     0.0        0.0  \n",
      "1           1/22/2020 17:00       14.0     0.0        0.0  \n",
      "2           1/22/2020 17:00        6.0     0.0        0.0  \n",
      "3           1/22/2020 17:00        1.0     0.0        0.0  \n",
      "4           1/22/2020 17:00        0.0     0.0        0.0  \n",
      "...                     ...        ...     ...        ...  \n",
      "306340  2021-05-30 04:20:55        1.0     0.0        1.0  \n",
      "306368  2021-05-30 04:20:55        0.0     0.0       10.0  \n",
      "306412  2021-05-30 04:20:55      980.0     3.0      977.0  \n",
      "306420  2021-05-30 04:20:55      352.0     2.0      331.0  \n",
      "306426  2021-05-30 04:20:55     1364.0     1.0     1324.0  \n",
      "\n",
      "[15758 rows x 8 columns]\n",
      "Quốc gia có số ca lây nhiễm nhiều nhất 298068    France\n",
      "Name: Country/Region, dtype: object\n",
      "Tỉnh có số ca lây nhiễm nhiều nhất 298068    NaN\n",
      "Name: Province/State, dtype: object\n"
     ]
    }
   ],
   "source": [
    "# Tạo biến countryCorona lưu giá trị là các quốc gia có dịch Corona (Cột Country/Region)\n",
    "countryCorona = coronaData['Country/Region'].unique()\n",
    "print(\"Các quốc gia có dịch Corona\",countryCorona)\n",
    "\n",
    "# Liệt kê số lượng ca lây nhiễm được xác nhận (biến Confirmed) nhiều nhất và lưu vào biến maxConfirmedCases\n",
    "maxConfirmedCases = coronaData['Confirmed'].max()\n",
    "print(\"Số lượng ca lây nhiễm được xác nhận nhiều nhất\",maxConfirmedCases)\n",
    "# Liệt kê các dữ liệu về covid-19 tại quốc gia Trung Quốc đại lục (Mainland China) và lưu vào biến coronaChina\n",
    "coronaChina = coronaData[coronaData['Country/Region'] == 'Mainland China']\n",
    "print(\"Các dữ liệu về covid-19 tại quốc gia Trung Quốc đại lục (Mainland China)\",coronaChina)\n",
    "# Tìm quốc gia (Country/Region) có số ca lây nhiễm nhiều nhất\n",
    "countryMaxConfirmedCases = coronaData[coronaData['Confirmed'] == maxConfirmedCases]['Country/Region']\n",
    "print(\"Quốc gia có số ca lây nhiễm nhiều nhất\",countryMaxConfirmedCases)\n",
    "# Tìm tỉnh (Province/State) có số ca lây nhiễm nhiều nhất \n",
    "maxConfirmedCasesProvince = coronaData[coronaData['Confirmed'] == maxConfirmedCases]['Province/State']\n",
    "print(\"Tỉnh có số ca lây nhiễm nhiều nhất\",maxConfirmedCasesProvince)\n"
   ]
  },
  {
   "cell_type": "code",
   "execution_count": 6,
   "metadata": {},
   "outputs": [
    {
     "name": "stdout",
     "output_type": "stream",
     "text": [
      "Số dòng dữ liệu trong tháng 1/2020: 513\n",
      "Thống kê dữ liệu tháng 1/2020:\n",
      "              SNo                ObservationDate    Confirmed      Deaths  \\\n",
      "count  513.000000                            513   513.000000  513.000000   \n",
      "mean   257.000000  2020-01-26 21:11:34.736841984    75.984405    1.764133   \n",
      "min      1.000000            2020-01-22 00:00:00     0.000000    0.000000   \n",
      "25%    129.000000            2020-01-24 00:00:00     2.000000    0.000000   \n",
      "50%    257.000000            2020-01-27 00:00:00     7.000000    0.000000   \n",
      "75%    385.000000            2020-01-29 00:00:00    33.000000    0.000000   \n",
      "max    513.000000            2020-01-31 00:00:00  5806.000000  204.000000   \n",
      "std    148.234611                            NaN   412.819242   14.596959   \n",
      "\n",
      "        Recovered  \n",
      "count  513.000000  \n",
      "mean     1.748538  \n",
      "min      0.000000  \n",
      "25%      0.000000  \n",
      "50%      0.000000  \n",
      "75%      0.000000  \n",
      "max    141.000000  \n",
      "std      9.878615  \n"
     ]
    }
   ],
   "source": [
    "# Lấy dữ liệu theo ngày tháng\n",
    "# Định dạng lại cột dữ liệu ngày tháng\n",
    "coronaData['ObservationDate'] = pd.to_datetime(coronaData['ObservationDate'])\n",
    "\n",
    "# Lấy dữ liệu trong tháng 1/2020, bắt đầu từ 01/01/2020 đến 31/01/2020\n",
    "coronaDataJan = coronaData[(coronaData['ObservationDate'] >= '2020-01-01') & (coronaData['ObservationDate'] <= '2020-01-31')]\n",
    "\n",
    "# In ra số lượng các dòng dữ liệu trong tháng 1\n",
    "print(\"Số dòng dữ liệu trong tháng 1/2020:\", coronaDataJan.shape[0])\n",
    "\n",
    "# Thống kê dữ liệu tháng 1\n",
    "# Hiển thị thông tin thống kê cơ bản của tháng 1\n",
    "print(\"Thống kê dữ liệu tháng 1/2020:\")\n",
    "print(coronaDataJan.describe())\n",
    "\n"
   ]
  },
  {
   "cell_type": "code",
   "execution_count": 7,
   "metadata": {},
   "outputs": [
    {
     "name": "stdout",
     "output_type": "stream",
     "text": [
      "Tổng số ca nhiễm trong tháng 1/2020: 38980.0\n",
      "Tổng số ca tử vong trong tháng 1/2020: 905.0\n",
      "Tổng số ca hồi phục trong tháng 1/2020: 897.0\n"
     ]
    }
   ],
   "source": [
    "# Tính tổng số ca nhiễm (Confirmed) trong tháng 1\n",
    "totalConfirmedJan = coronaDataJan['Confirmed'].sum()\n",
    "print(\"Tổng số ca nhiễm trong tháng 1/2020:\", totalConfirmedJan)\n",
    "\n",
    "# Tính tổng số ca tử vong (Deaths) trong tháng 1\n",
    "totalDeathsJan = coronaDataJan['Deaths'].sum()\n",
    "print(\"Tổng số ca tử vong trong tháng 1/2020:\", totalDeathsJan)\n",
    "\n",
    "# Tính tổng số ca hồi phục (Recovered) trong tháng 1\n",
    "totalRecoveredJan = coronaDataJan['Recovered'].sum()\n",
    "print(\"Tổng số ca hồi phục trong tháng 1/2020:\", totalRecoveredJan)\n",
    "\n"
   ]
  },
  {
   "cell_type": "code",
   "execution_count": 8,
   "metadata": {},
   "outputs": [
    {
     "name": "stdout",
     "output_type": "stream",
     "text": [
      "10 quốc gia có số ca nhiễm cao nhất trong tháng 1/2020:\n",
      "    Country/Region  Confirmed  Deaths  Recovered\n",
      "16  Mainland China    38340.0   905.0      838.0\n",
      "27        Thailand       96.0     0.0       49.0\n",
      "9        Hong Kong       65.0     0.0        0.0\n",
      "13           Japan       55.0     0.0        6.0\n",
      "22       Singapore       53.0     0.0        0.0\n",
      "26          Taiwan       52.0     0.0        0.0\n",
      "15           Macau       46.0     0.0        0.0\n",
      "0        Australia       41.0     0.0        4.0\n",
      "17        Malaysia       38.0     0.0        0.0\n",
      "29              US       37.0     0.0        0.0\n"
     ]
    }
   ],
   "source": [
    "# Thống kê theo quốc gia trong tháng 1\n",
    "# Nhóm dữ liệu theo quốc gia và tính tổng các chỉ số\n",
    "countryStatsJan = coronaDataJan.groupby('Country/Region').agg({\n",
    "    'Confirmed': 'sum',\n",
    "    'Deaths': 'sum',\n",
    "    'Recovered': 'sum'\n",
    "}).reset_index()\n",
    "\n",
    "# Hiển thị 10 quốc gia có số ca nhiễm cao nhất trong tháng 1\n",
    "print(\"10 quốc gia có số ca nhiễm cao nhất trong tháng 1/2020:\")\n",
    "print(countryStatsJan.sort_values('Confirmed', ascending=False).head(10))"
   ]
  },
  {
   "cell_type": "markdown",
   "metadata": {},
   "source": [
    "## Câu b"
   ]
  },
  {
   "cell_type": "code",
   "execution_count": 9,
   "metadata": {},
   "outputs": [],
   "source": [
    "## Tìm dữ liệu về số ca lây nhiễm tại Vietnam (Country.Region == 'Vietnam') và lưu vào biến coronaVietnam\n",
    "coronaVietnam = coronaData[coronaData['Country/Region'] == 'Vietnam']"
   ]
  },
  {
   "cell_type": "code",
   "execution_count": 10,
   "metadata": {},
   "outputs": [
    {
     "data": {
      "text/html": [
       "<div>\n",
       "<style scoped>\n",
       "    .dataframe tbody tr th:only-of-type {\n",
       "        vertical-align: middle;\n",
       "    }\n",
       "\n",
       "    .dataframe tbody tr th {\n",
       "        vertical-align: top;\n",
       "    }\n",
       "\n",
       "    .dataframe thead th {\n",
       "        text-align: right;\n",
       "    }\n",
       "</style>\n",
       "<table border=\"1\" class=\"dataframe\">\n",
       "  <thead>\n",
       "    <tr style=\"text-align: right;\">\n",
       "      <th></th>\n",
       "      <th>SNo</th>\n",
       "      <th>ObservationDate</th>\n",
       "      <th>Province/State</th>\n",
       "      <th>Country/Region</th>\n",
       "      <th>Last Update</th>\n",
       "      <th>Confirmed</th>\n",
       "      <th>Deaths</th>\n",
       "      <th>Recovered</th>\n",
       "    </tr>\n",
       "  </thead>\n",
       "  <tbody>\n",
       "    <tr>\n",
       "      <th>81</th>\n",
       "      <td>82</td>\n",
       "      <td>2020-01-23</td>\n",
       "      <td>NaN</td>\n",
       "      <td>Vietnam</td>\n",
       "      <td>1/23/20 17:00</td>\n",
       "      <td>2.0</td>\n",
       "      <td>0.0</td>\n",
       "      <td>0.0</td>\n",
       "    </tr>\n",
       "    <tr>\n",
       "      <th>127</th>\n",
       "      <td>128</td>\n",
       "      <td>2020-01-24</td>\n",
       "      <td>NaN</td>\n",
       "      <td>Vietnam</td>\n",
       "      <td>1/24/20 17:00</td>\n",
       "      <td>2.0</td>\n",
       "      <td>0.0</td>\n",
       "      <td>0.0</td>\n",
       "    </tr>\n",
       "    <tr>\n",
       "      <th>170</th>\n",
       "      <td>171</td>\n",
       "      <td>2020-01-25</td>\n",
       "      <td>NaN</td>\n",
       "      <td>Vietnam</td>\n",
       "      <td>1/25/20 17:00</td>\n",
       "      <td>2.0</td>\n",
       "      <td>0.0</td>\n",
       "      <td>0.0</td>\n",
       "    </tr>\n",
       "    <tr>\n",
       "      <th>218</th>\n",
       "      <td>219</td>\n",
       "      <td>2020-01-26</td>\n",
       "      <td>NaN</td>\n",
       "      <td>Vietnam</td>\n",
       "      <td>1/26/20 16:00</td>\n",
       "      <td>2.0</td>\n",
       "      <td>0.0</td>\n",
       "      <td>0.0</td>\n",
       "    </tr>\n",
       "    <tr>\n",
       "      <th>267</th>\n",
       "      <td>268</td>\n",
       "      <td>2020-01-27</td>\n",
       "      <td>NaN</td>\n",
       "      <td>Vietnam</td>\n",
       "      <td>1/27/20 23:59</td>\n",
       "      <td>2.0</td>\n",
       "      <td>0.0</td>\n",
       "      <td>0.0</td>\n",
       "    </tr>\n",
       "    <tr>\n",
       "      <th>...</th>\n",
       "      <td>...</td>\n",
       "      <td>...</td>\n",
       "      <td>...</td>\n",
       "      <td>...</td>\n",
       "      <td>...</td>\n",
       "      <td>...</td>\n",
       "      <td>...</td>\n",
       "      <td>...</td>\n",
       "    </tr>\n",
       "    <tr>\n",
       "      <th>302771</th>\n",
       "      <td>302772</td>\n",
       "      <td>2021-05-25</td>\n",
       "      <td>NaN</td>\n",
       "      <td>Vietnam</td>\n",
       "      <td>2021-05-26 04:20:35</td>\n",
       "      <td>5931.0</td>\n",
       "      <td>44.0</td>\n",
       "      <td>2794.0</td>\n",
       "    </tr>\n",
       "    <tr>\n",
       "      <th>303536</th>\n",
       "      <td>303537</td>\n",
       "      <td>2021-05-26</td>\n",
       "      <td>NaN</td>\n",
       "      <td>Vietnam</td>\n",
       "      <td>2021-05-27 04:20:59</td>\n",
       "      <td>6086.0</td>\n",
       "      <td>45.0</td>\n",
       "      <td>2853.0</td>\n",
       "    </tr>\n",
       "    <tr>\n",
       "      <th>304301</th>\n",
       "      <td>304302</td>\n",
       "      <td>2021-05-27</td>\n",
       "      <td>NaN</td>\n",
       "      <td>Vietnam</td>\n",
       "      <td>2021-05-28 04:20:36</td>\n",
       "      <td>6356.0</td>\n",
       "      <td>46.0</td>\n",
       "      <td>2853.0</td>\n",
       "    </tr>\n",
       "    <tr>\n",
       "      <th>305066</th>\n",
       "      <td>305067</td>\n",
       "      <td>2021-05-28</td>\n",
       "      <td>NaN</td>\n",
       "      <td>Vietnam</td>\n",
       "      <td>2021-05-29 04:20:41</td>\n",
       "      <td>6396.0</td>\n",
       "      <td>47.0</td>\n",
       "      <td>2896.0</td>\n",
       "    </tr>\n",
       "    <tr>\n",
       "      <th>305831</th>\n",
       "      <td>305832</td>\n",
       "      <td>2021-05-29</td>\n",
       "      <td>NaN</td>\n",
       "      <td>Vietnam</td>\n",
       "      <td>2021-05-30 04:20:55</td>\n",
       "      <td>6908.0</td>\n",
       "      <td>47.0</td>\n",
       "      <td>2896.0</td>\n",
       "    </tr>\n",
       "  </tbody>\n",
       "</table>\n",
       "<p>493 rows × 8 columns</p>\n",
       "</div>"
      ],
      "text/plain": [
       "           SNo ObservationDate Province/State Country/Region  \\\n",
       "81          82      2020-01-23            NaN        Vietnam   \n",
       "127        128      2020-01-24            NaN        Vietnam   \n",
       "170        171      2020-01-25            NaN        Vietnam   \n",
       "218        219      2020-01-26            NaN        Vietnam   \n",
       "267        268      2020-01-27            NaN        Vietnam   \n",
       "...        ...             ...            ...            ...   \n",
       "302771  302772      2021-05-25            NaN        Vietnam   \n",
       "303536  303537      2021-05-26            NaN        Vietnam   \n",
       "304301  304302      2021-05-27            NaN        Vietnam   \n",
       "305066  305067      2021-05-28            NaN        Vietnam   \n",
       "305831  305832      2021-05-29            NaN        Vietnam   \n",
       "\n",
       "                Last Update  Confirmed  Deaths  Recovered  \n",
       "81            1/23/20 17:00        2.0     0.0        0.0  \n",
       "127           1/24/20 17:00        2.0     0.0        0.0  \n",
       "170           1/25/20 17:00        2.0     0.0        0.0  \n",
       "218           1/26/20 16:00        2.0     0.0        0.0  \n",
       "267           1/27/20 23:59        2.0     0.0        0.0  \n",
       "...                     ...        ...     ...        ...  \n",
       "302771  2021-05-26 04:20:35     5931.0    44.0     2794.0  \n",
       "303536  2021-05-27 04:20:59     6086.0    45.0     2853.0  \n",
       "304301  2021-05-28 04:20:36     6356.0    46.0     2853.0  \n",
       "305066  2021-05-29 04:20:41     6396.0    47.0     2896.0  \n",
       "305831  2021-05-30 04:20:55     6908.0    47.0     2896.0  \n",
       "\n",
       "[493 rows x 8 columns]"
      ]
     },
     "execution_count": 10,
     "metadata": {},
     "output_type": "execute_result"
    }
   ],
   "source": [
    "coronaVietnam"
   ]
  },
  {
   "cell_type": "markdown",
   "metadata": {},
   "source": [
    "## Câu c"
   ]
  },
  {
   "cell_type": "code",
   "execution_count": 11,
   "metadata": {},
   "outputs": [],
   "source": [
    "# Tìm dữ liệu về số ca lây nhiễm tại Việt Nam trong tháng 02 năm 2021.\n",
    "coronaVietnamFeb = coronaData[(coronaData['Country/Region'] == 'Vietnam') & (coronaData['ObservationDate'] >= '2021-02-01') & (coronaData['ObservationDate'] <= '2021-02-28')]\n"
   ]
  },
  {
   "cell_type": "code",
   "execution_count": 12,
   "metadata": {},
   "outputs": [
    {
     "name": "stdout",
     "output_type": "stream",
     "text": [
      "Số ca lây nhiễm tại Việt Nam trong tháng 02 năm 2021: 28\n"
     ]
    }
   ],
   "source": [
    "print(\"Số ca lây nhiễm tại Việt Nam trong tháng 02 năm 2021:\", coronaVietnamFeb.shape[0])\n"
   ]
  },
  {
   "cell_type": "markdown",
   "metadata": {},
   "source": [
    "## Câu d"
   ]
  },
  {
   "cell_type": "code",
   "execution_count": 13,
   "metadata": {},
   "outputs": [
    {
     "name": "stdout",
     "output_type": "stream",
     "text": [
      "Số dữ liệu về ca lây nhiễm nhiều nhất trong khoảng tháng 01 và 02 tại Việt Nam (Lấy năm 2021): 59\n"
     ]
    }
   ],
   "source": [
    "# In ra số dữ liệu về ca lây nhiễm nhiều nhất trong khoảng tháng 01 và 02 tại Việt Nam (Lấy năm 2021).\n",
    "\n",
    "coronaVietnamJanFeb = coronaData[(coronaData['Country/Region'] == 'Vietnam') & (coronaData['ObservationDate'] >= '2021-01-01') & (coronaData['ObservationDate'] <= '2021-02-28')]\n",
    "print(\"Số dữ liệu về ca lây nhiễm nhiều nhất trong khoảng tháng 01 và 02 tại Việt Nam (Lấy năm 2021):\", coronaVietnamJanFeb.shape[0])\n"
   ]
  },
  {
   "cell_type": "markdown",
   "metadata": {},
   "source": [
    "## Câu e"
   ]
  },
  {
   "cell_type": "code",
   "execution_count": 14,
   "metadata": {},
   "outputs": [
    {
     "name": "stdout",
     "output_type": "stream",
     "text": [
      "Số dữ liệu về ca lây nhiễm nhiều nhất trong khoảng tháng 01 và 02 tại Indonesia (Lấy năm 2021): 59\n",
      "Số dữ liệu về ca lây nhiễm nhiều nhất trong khoảng tháng 01 và 02 tại Philipine (Lấy năm 2021): 0\n"
     ]
    }
   ],
   "source": [
    "#Thực hiện tương tự câu d) cho Indonesia và Philipine.\n",
    "\n",
    "coronaIndonesiaJanFeb = coronaData[(coronaData['Country/Region'] == 'Indonesia') & (coronaData['ObservationDate'] >= '2021-01-01') & (coronaData['ObservationDate'] <= '2021-02-28')]\n",
    "print(\"Số dữ liệu về ca lây nhiễm nhiều nhất trong khoảng tháng 01 và 02 tại Indonesia (Lấy năm 2021):\", coronaIndonesiaJanFeb.shape[0])\n",
    "\n",
    "coronaPhilipineJanFeb = coronaData[(coronaData['Country/Region'] == 'Philipine') & (coronaData['ObservationDate'] >= '2021-01-01') & (coronaData['ObservationDate'] <= '2021-02-28')]\n",
    "print(\"Số dữ liệu về ca lây nhiễm nhiều nhất trong khoảng tháng 01 và 02 tại Philipine (Lấy năm 2021):\", coronaPhilipineJanFeb.shape[0])\n",
    "\n"
   ]
  },
  {
   "cell_type": "markdown",
   "metadata": {},
   "source": [
    "## Câu f"
   ]
  },
  {
   "cell_type": "code",
   "execution_count": 15,
   "metadata": {},
   "outputs": [
    {
     "name": "stdout",
     "output_type": "stream",
     "text": [
      "Thống kê số lượng record theo từng tỉnh của Trung Quốc trong tháng 02/2021:\n",
      "Province/State\n",
      "Anhui             28\n",
      "Beijing           28\n",
      "Yunnan            28\n",
      "Xinjiang          28\n",
      "Unknown           28\n",
      "Tibet             28\n",
      "Tianjin           28\n",
      "Sichuan           28\n",
      "Shanxi            28\n",
      "Shanghai          28\n",
      "Shandong          28\n",
      "Shaanxi           28\n",
      "Qinghai           28\n",
      "Ningxia           28\n",
      "Liaoning          28\n",
      "Jilin             28\n",
      "Jiangxi           28\n",
      "Jiangsu           28\n",
      "Inner Mongolia    28\n",
      "Hunan             28\n",
      "Hubei             28\n",
      "Henan             28\n",
      "Heilongjiang      28\n",
      "Hebei             28\n",
      "Hainan            28\n",
      "Guizhou           28\n",
      "Guangxi           28\n",
      "Guangdong         28\n",
      "Gansu             28\n",
      "Fujian            28\n",
      "Chongqing         28\n",
      "Zhejiang          28\n",
      "Name: count, dtype: int64\n",
      "\n",
      "Tổng số record: 896\n"
     ]
    }
   ],
   "source": [
    "# Thống kê số lượng record theo từng tỉnh của Trung Quốc trong tháng 02/2021.\n",
    "# Gợi ý: Dùng hàm table(). Đếm từng dòng theo từng tỉnh.\n",
    "# Lọc dữ liệu cho Trung Quốc (Mainland China) trong tháng 02/2021\n",
    "coronaChinaFeb = coronaData[(coronaData['Country/Region'] == 'Mainland China') & \n",
    "                           (coronaData['ObservationDate'] >= '2021-02-01') & \n",
    "                           (coronaData['ObservationDate'] <= '2021-02-28')]\n",
    "\n",
    "# Thống kê số lượng record theo từng tỉnh\n",
    "province_counts = coronaChinaFeb['Province/State'].value_counts()\n",
    "\n",
    "# Hiển thị kết quả\n",
    "print(\"Thống kê số lượng record theo từng tỉnh của Trung Quốc trong tháng 02/2021:\")\n",
    "print(province_counts)\n",
    "\n",
    "# Hiển thị tổng số record\n",
    "print(f\"\\nTổng số record: {len(coronaChinaFeb)}\")\n",
    "\n",
    "\n",
    "## Câu g\n",
    "# Thống kê số lượng record theo từng tỉnh của Trung Quốc trong tháng 02/2021.\n"
   ]
  },
  {
   "cell_type": "markdown",
   "metadata": {},
   "source": [
    "## Câu g"
   ]
  },
  {
   "cell_type": "code",
   "execution_count": 16,
   "metadata": {},
   "outputs": [
    {
     "name": "stdout",
     "output_type": "stream",
     "text": [
      "Số lượng ca nhiễm theo từng tỉnh của Trung Quốc trong tháng 02/2021:\n",
      "Province/State\n",
      "Anhui               27832.0\n",
      "Beijing             29278.0\n",
      "Chongqing           16548.0\n",
      "Fujian              15323.0\n",
      "Gansu                5236.0\n",
      "Guangdong           60700.0\n",
      "Guangxi              7476.0\n",
      "Guizhou              4116.0\n",
      "Hainan               4788.0\n",
      "Hebei               36858.0\n",
      "Heilongjiang        45023.0\n",
      "Henan               36499.0\n",
      "Hubei             1908212.0\n",
      "Hunan               28948.0\n",
      "Inner Mongolia      10264.0\n",
      "Jiangsu             19661.0\n",
      "Jiangxi             26180.0\n",
      "Jilin               16011.0\n",
      "Liaoning            11310.0\n",
      "Ningxia              2100.0\n",
      "Qinghai               504.0\n",
      "Shaanxi             15268.0\n",
      "Shandong            24280.0\n",
      "Shanghai            49269.0\n",
      "Shanxi               6699.0\n",
      "Sichuan             24659.0\n",
      "Tianjin              9779.0\n",
      "Tibet                  28.0\n",
      "Unknown                 1.0\n",
      "Xinjiang            27440.0\n",
      "Yunnan               6472.0\n",
      "Zhejiang            36935.0\n",
      "Name: Confirmed, dtype: float64\n",
      "\n",
      "Tổng số ca nhiễm: 2513697.0\n"
     ]
    }
   ],
   "source": [
    "# Đếm số lượng ca nhiễm mới theo từng tỉnh của Trung Quốc trong tháng 02/2021.\n",
    "coronaChinaFeb = coronaData[(coronaData['Country/Region'] == 'Mainland China') & \n",
    "                           (coronaData['ObservationDate'] >= '2021-02-01') & \n",
    "                           (coronaData['ObservationDate'] <= '2021-02-28')]\n",
    "\n",
    "# Nhóm dữ liệu theo tỉnh và tính tổng số ca nhiễm\n",
    "province_confirmed_cases = coronaChinaFeb.groupby('Province/State')['Confirmed'].sum()\n",
    "\n",
    "# Hiển thị kết quả\n",
    "print(\"Số lượng ca nhiễm theo từng tỉnh của Trung Quốc trong tháng 02/2021:\")\n",
    "print(province_confirmed_cases)\n",
    "\n",
    "# Hiển thị tổng số ca nhiễm\n",
    "print(f\"\\nTổng số ca nhiễm: {province_confirmed_cases.sum()}\")\n",
    "\n"
   ]
  },
  {
   "cell_type": "code",
   "execution_count": 17,
   "metadata": {},
   "outputs": [
    {
     "name": "stdout",
     "output_type": "stream",
     "text": [
      "Thống kê số lượng record theo từng tỉnh của Nhật Bản trong tháng 02/2021:\n",
      "Province/State\n",
      "Aichi              28\n",
      "Nagano             28\n",
      "Nara               28\n",
      "Niigata            28\n",
      "Oita               28\n",
      "Okayama            28\n",
      "Okinawa            28\n",
      "Osaka              28\n",
      "Port Quarantine    28\n",
      "Saga               28\n",
      "Saitama            28\n",
      "Shiga              28\n",
      "Shimane            28\n",
      "Shizuoka           28\n",
      "Tochigi            28\n",
      "Tokushima          28\n",
      "Tokyo              28\n",
      "Tottori            28\n",
      "Toyama             28\n",
      "Unknown            28\n",
      "Wakayama           28\n",
      "Yamagata           28\n",
      "Yamaguchi          28\n",
      "Nagasaki           28\n",
      "Miyazaki           28\n",
      "Akita              28\n",
      "Miyagi             28\n",
      "Aomori             28\n",
      "Chiba              28\n",
      "Ehime              28\n",
      "Fukui              28\n",
      "Fukuoka            28\n",
      "Fukushima          28\n",
      "Gifu               28\n",
      "Gunma              28\n",
      "Hiroshima          28\n",
      "Hokkaido           28\n",
      "Hyogo              28\n",
      "Ibaraki            28\n",
      "Ishikawa           28\n",
      "Iwate              28\n",
      "Kagawa             28\n",
      "Kagoshima          28\n",
      "Kanagawa           28\n",
      "Kochi              28\n",
      "Kumamoto           28\n",
      "Kyoto              28\n",
      "Mie                28\n",
      "Yamanashi          28\n",
      "Name: count, dtype: int64\n",
      "\n",
      "Tổng số record: 1372\n",
      "\n",
      "Số lượng ca nhiễm theo từng tỉnh của Nhật Bản trong tháng 02/2021:\n",
      "Province/State\n",
      "Aichi               704636.0\n",
      "Akita                 7512.0\n",
      "Aomori               21983.0\n",
      "Chiba               690206.0\n",
      "Ehime                28860.0\n",
      "Fukui                14903.0\n",
      "Fukuoka             485321.0\n",
      "Fukushima            51441.0\n",
      "Gifu                124593.0\n",
      "Gunma               118861.0\n",
      "Hiroshima           138565.0\n",
      "Hokkaido            516293.0\n",
      "Hyogo               490250.0\n",
      "Ibaraki             150024.0\n",
      "Ishikawa             46935.0\n",
      "Iwate                14838.0\n",
      "Kagawa               20032.0\n",
      "Kagoshima            47852.0\n",
      "Kanagawa           1210638.0\n",
      "Kochi                24429.0\n",
      "Kumamoto             95443.0\n",
      "Kyoto               248546.0\n",
      "Mie                  67013.0\n",
      "Miyagi               99561.0\n",
      "Miyazaki             53547.0\n",
      "Nagano               65608.0\n",
      "Nagasaki             44273.0\n",
      "Nara                 89528.0\n",
      "Niigata              28026.0\n",
      "Oita                 35088.0\n",
      "Okayama              68158.0\n",
      "Okinawa             223660.0\n",
      "Osaka              1283309.0\n",
      "Port Quarantine      61440.0\n",
      "Saga                 28290.0\n",
      "Saitama             775984.0\n",
      "Shiga                64853.0\n",
      "Shimane               7989.0\n",
      "Shizuoka            136454.0\n",
      "Tochigi             110886.0\n",
      "Tokushima            11889.0\n",
      "Tokyo              2978730.0\n",
      "Tottori               5829.0\n",
      "Toyama               25040.0\n",
      "Unknown                224.0\n",
      "Wakayama             31742.0\n",
      "Yamagata             14888.0\n",
      "Yamaguchi            37464.0\n",
      "Yamanashi            25927.0\n",
      "Name: Confirmed, dtype: float64\n",
      "\n",
      "Tổng số ca nhiễm: 11627561.0\n"
     ]
    }
   ],
   "source": [
    "# Thực hiện tương tự cho các quốc gia khác, ví dụ như Nhật Bản (Japan).\n",
    "# Lọc dữ liệu cho Nhật Bản (Japan) trong tháng 02/2021\n",
    "coronaJapanFeb = coronaData[(coronaData['Country/Region'] == 'Japan') & \n",
    "                           (coronaData['ObservationDate'] >= '2021-02-01') & \n",
    "                           (coronaData['ObservationDate'] <= '2021-02-28')]\n",
    "\n",
    "# Thống kê số lượng record theo từng tỉnh (nếu có)\n",
    "japan_province_counts = coronaJapanFeb['Province/State'].value_counts()\n",
    "\n",
    "print(\"Thống kê số lượng record theo từng tỉnh của Nhật Bản trong tháng 02/2021:\")\n",
    "print(japan_province_counts)\n",
    "print(f\"\\nTổng số record: {len(coronaJapanFeb)}\")\n",
    "\n",
    "# Nhóm dữ liệu theo tỉnh (nếu có) và tính tổng số ca nhiễm\n",
    "japan_confirmed_cases = coronaJapanFeb.groupby('Province/State')['Confirmed'].sum()\n",
    "\n",
    "print(\"\\nSố lượng ca nhiễm theo từng tỉnh của Nhật Bản trong tháng 02/2021:\")\n",
    "print(japan_confirmed_cases)\n",
    "print(f\"\\nTổng số ca nhiễm: {japan_confirmed_cases.sum()}\")\n",
    "\n"
   ]
  },
  {
   "cell_type": "markdown",
   "metadata": {},
   "source": [
    "## Câu h"
   ]
  },
  {
   "cell_type": "code",
   "execution_count": 26,
   "metadata": {},
   "outputs": [
    {
     "name": "stdout",
     "output_type": "stream",
     "text": [
      "Dữ liệu ca tử vong của Trung Quốc trong khoảng thời gian từ 01/02/2021 cho đến 15/02/2021:\n",
      "216353    6.0\n",
      "216387    9.0\n",
      "216437    6.0\n",
      "216479    1.0\n",
      "216484    2.0\n",
      "         ... \n",
      "227545    0.0\n",
      "227573    0.0\n",
      "227617    3.0\n",
      "227625    2.0\n",
      "227631    1.0\n",
      "Name: Deaths, Length: 480, dtype: float64\n"
     ]
    }
   ],
   "source": [
    "# Tìm dữ liệu ca tử vong của Trung Quốc trong khoảng thời gian từ 01/02/2021 cho đến 15/02/2021. In ra màn hình sử dụng lệnh print().\n",
    "coronaChinaFeb = coronaData[(coronaData['Country/Region'] == 'Mainland China') & \n",
    "                           (coronaData['ObservationDate'] >= '2021-02-01') & \n",
    "                           (coronaData['ObservationDate'] <= '2021-02-15')]\n",
    "coronaChinaFebDeath = coronaChinaFeb['Deaths']\n",
    "print(\"Dữ liệu ca tử vong của Trung Quốc trong khoảng thời gian từ 01/02/2021 cho đến 15/02/2021:\")\n",
    "print(coronaChinaFebDeath)"
   ]
  },
  {
   "cell_type": "markdown",
   "metadata": {},
   "source": [
    "## Câu i"
   ]
  },
  {
   "cell_type": "code",
   "execution_count": 19,
   "metadata": {},
   "outputs": [
    {
     "data": {
      "image/png": "[encoded data removed]",
      "text/plain": [
       "<Figure size 1200x600 with 1 Axes>"
      ]
     },
     "metadata": {},
     "output_type": "display_data"
    },
    {
     "name": "stdout",
     "output_type": "stream",
     "text": [
      "Tổng số ca nhiễm mới tại Việt Nam trong tháng 5/2020: 58.0\n",
      "Tổng số ca nhiễm mới tại Việt Nam trong tháng 5/2021: 3966.0\n",
      "Tỷ lệ tăng: 68.37931034482759\n",
      "\n",
      "Nhận xét:\n",
      "- Số ca nhiễm mới tại Việt Nam trong tháng 5/2021 tăng đáng kể so với tháng 5/2020\n",
      "- Tháng 5/2020, Việt Nam kiểm soát dịch tốt với rất ít ca nhiễm mới\n",
      "- Tháng 5/2021 đánh dấu sự bùng phát của làn sóng dịch mới với số ca nhiễm tăng mạnh\n"
     ]
    }
   ],
   "source": [
    "# Có nhận xét gì về số ca nhiễm mới tại Việt Nam giữa tháng 05/2020 và tháng 05/2021. Vẽ biểu đồ đường thể hiện số ca nhiễm mới trong 2 tháng trên.\n",
    "# Lọc dữ liệu cho Việt Nam trong tháng 05/2020 và tháng 05/2021\n",
    "vietnam_data_may_2020 = coronaData[(coronaData['Country/Region'] == 'Vietnam') & \n",
    "                                   (coronaData['ObservationDate'] >= '2020-05-01') & \n",
    "                                   (coronaData['ObservationDate'] <= '2020-05-31')]\n",
    "\n",
    "\n",
    "vietnam_data_may_2021 = coronaData[(coronaData['Country/Region'] == 'Vietnam') & \n",
    "                                   (coronaData['ObservationDate'] >= '2021-05-01') & \n",
    "                                   (coronaData['ObservationDate'] <= '2021-05-31')]\n",
    "\n",
    "# Sắp xếp dữ liệu theo ngày\n",
    "vietnam_data_may_2020 = vietnam_data_may_2020.sort_values('ObservationDate')\n",
    "vietnam_data_may_2021 = vietnam_data_may_2021.sort_values('ObservationDate')\n",
    "\n",
    "# Tính số ca nhiễm mới hàng ngày\n",
    "vietnam_may_2020_daily = vietnam_data_may_2020.copy()\n",
    "vietnam_may_2021_daily = vietnam_data_may_2021.copy()\n",
    "\n",
    "# Tính số ca nhiễm mới bằng cách lấy sự khác biệt giữa các ngày liên tiếp\n",
    "vietnam_may_2020_daily['New_Cases'] = vietnam_may_2020_daily['Confirmed'].diff().fillna(0)\n",
    "vietnam_may_2021_daily['New_Cases'] = vietnam_may_2021_daily['Confirmed'].diff().fillna(0)\n",
    "\n",
    "# Vẽ biểu đồ\n",
    "plt.figure(figsize=(12, 6))\n",
    "plt.plot(vietnam_may_2020_daily['ObservationDate'], vietnam_may_2020_daily['New_Cases'], \n",
    "         label='Tháng 5/2020', marker='o')\n",
    "plt.plot(vietnam_may_2021_daily['ObservationDate'], vietnam_may_2021_daily['New_Cases'], \n",
    "         label='Tháng 5/2021', marker='o')\n",
    "\n",
    "plt.title('So sánh số ca nhiễm mới tại Việt Nam giữa tháng 5/2020 và tháng 5/2021')\n",
    "plt.xlabel('Ngày')\n",
    "plt.ylabel('Số ca nhiễm mới')\n",
    "plt.legend()\n",
    "plt.grid(True)\n",
    "plt.xticks(rotation=45)\n",
    "plt.tight_layout()\n",
    "plt.show()\n",
    "\n",
    "# Tính tổng số ca nhiễm mới trong mỗi tháng\n",
    "total_new_cases_may_2020 = vietnam_may_2020_daily['New_Cases'].sum()\n",
    "total_new_cases_may_2021 = vietnam_may_2021_daily['New_Cases'].sum()\n",
    "\n",
    "print(f\"Tổng số ca nhiễm mới tại Việt Nam trong tháng 5/2020: {total_new_cases_may_2020}\")\n",
    "print(f\"Tổng số ca nhiễm mới tại Việt Nam trong tháng 5/2021: {total_new_cases_may_2021}\")\n",
    "print(f\"Tỷ lệ tăng: {(total_new_cases_may_2021 / total_new_cases_may_2020 if total_new_cases_may_2020 > 0 else 'N/A')}\")\n",
    "\n",
    "print(\"\\nNhận xét:\")\n",
    "print(\"- Số ca nhiễm mới tại Việt Nam trong tháng 5/2021 tăng đáng kể so với tháng 5/2020\")\n",
    "print(\"- Tháng 5/2020, Việt Nam kiểm soát dịch tốt với rất ít ca nhiễm mới\")\n",
    "print(\"- Tháng 5/2021 đánh dấu sự bùng phát của làn sóng dịch mới với số ca nhiễm tăng mạnh\")\n",
    "\n"
   ]
  },
  {
   "cell_type": "markdown",
   "metadata": {},
   "source": [
    "## Câu k"
   ]
  },
  {
   "cell_type": "code",
   "execution_count": 20,
   "metadata": {},
   "outputs": [
    {
     "data": {
      "image/png": "[encoded data removed]",
      "text/plain": [
       "<Figure size 1400x700 with 1 Axes>"
      ]
     },
     "metadata": {},
     "output_type": "display_data"
    },
    {
     "name": "stdout",
     "output_type": "stream",
     "text": [
      "Thống kê số ca nhiễm COVID-19 (Tháng 1-2/2021):\n",
      "Vietnam: Số ca nhiễm cao nhất là 2448.0 vào ngày 2021-02-28 00:00:00\n",
      "Indonesia: Số ca nhiễm cao nhất là 1334634.0 vào ngày 2021-02-28 00:00:00\n",
      "Philippines: Số ca nhiễm cao nhất là 576352.0 vào ngày 2021-02-28 00:00:00\n"
     ]
    }
   ],
   "source": [
    "# Vẽ biểu đồ về số ca lây nhiễm nhiều nhất của 3 quốc gia: Vietnam, Indonesia và Philippine trong 2 tháng gồm 01 và tháng 02 năm 2021\n",
    "# Lọc dữ liệu cho 3 quốc gia trong tháng 01 và tháng 02 năm 2021\n",
    "vietnam_data_jan_feb_2021 = coronaData[(coronaData['Country/Region'].isin(['Vietnam', 'Indonesia', 'Philippines'])) & \n",
    "                                        (coronaData['ObservationDate'] >= '2021-01-01') & \n",
    "                                        (coronaData['ObservationDate'] <= '2021-02-28')]\n",
    "\n",
    "# Nhóm dữ liệu theo quốc gia và ngày, lấy số ca nhiễm theo ngày\n",
    "country_daily_cases = vietnam_data_jan_feb_2021.groupby(['Country/Region', 'ObservationDate'])['Confirmed'].max().reset_index()\n",
    "\n",
    "# Tạo pivot table để dễ dàng vẽ biểu đồ\n",
    "pivot_data = country_daily_cases.pivot(index='ObservationDate', columns='Country/Region', values='Confirmed')\n",
    "\n",
    "# Tính số ca nhiễm mới hàng ngày bằng cách lấy sự khác biệt\n",
    "new_cases = pivot_data.diff().fillna(0)\n",
    "\n",
    "# Vẽ biểu đồ\n",
    "plt.figure(figsize=(14, 7))\n",
    "\n",
    "# Vẽ đường cho từng quốc gia\n",
    "for country in ['Vietnam', 'Indonesia', 'Philippines']:\n",
    "    if country in pivot_data.columns:\n",
    "        plt.plot(pivot_data.index, pivot_data[country], marker='o', linestyle='-', label=f'{country} - Tổng số ca')\n",
    "\n",
    "plt.title('So sánh số ca nhiễm COVID-19 tại Việt Nam, Indonesia và Philippines (Tháng 1-2/2021)')\n",
    "plt.xlabel('Ngày')\n",
    "plt.ylabel('Số ca nhiễm')\n",
    "plt.legend()\n",
    "plt.grid(True)\n",
    "plt.xticks(rotation=45)\n",
    "plt.tight_layout()\n",
    "plt.show()\n",
    "\n",
    "# Hiển thị thông tin thống kê\n",
    "print(\"Thống kê số ca nhiễm COVID-19 (Tháng 1-2/2021):\")\n",
    "for country in ['Vietnam', 'Indonesia', 'Philippines']:\n",
    "    if country in pivot_data.columns:\n",
    "        max_cases = pivot_data[country].max()\n",
    "        max_date = pivot_data[country].idxmax()\n",
    "        print(f\"{country}: Số ca nhiễm cao nhất là {max_cases} vào ngày {max_date}\")\n",
    "\n",
    "\n",
    "\n"
   ]
  }
 ],
 "metadata": {
  "kernelspec": {
   "display_name": "base",
   "language": "python",
   "name": "python3"
  },
  "language_info": {
   "codemirror_mode": {
    "name": "ipython",
    "version": 3
   },
   "file_extension": ".py",
   "mimetype": "text/x-python",
   "name": "python",
   "nbconvert_exporter": "python",
   "pygments_lexer": "ipython3",
   "version": "3.12.4"
  }
 },
 "nbformat": 4,
 "nbformat_minor": 2
}
